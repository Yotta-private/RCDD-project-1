{
 "cells": [
  {
   "cell_type": "code",
   "execution_count": 71,
   "metadata": {},
   "outputs": [],
   "source": [
    "import pandas as pd\n",
    "import numpy as np\n",
    "import rdkit\n",
    "import csv\n",
    "from rdkit import Chem"
   ]
  },
  {
   "cell_type": "code",
   "execution_count": 72,
   "metadata": {},
   "outputs": [],
   "source": [
    "def get_a_from_yield_csv(filename):\n",
    "    \"RACa0xxe0xx return to a list [a0xx]\"\n",
    "    data = pd.read_csv(filename)\n",
    "    a_names = []\n",
    "    for i in data.name:\n",
    "        a_name = i[3:7]\n",
    "        a_names.append(a_name)\n",
    "    return a_names\n",
    "    #print(a_names)\n",
    "    \n",
    "def get_e_from_yield_csv(filename):\n",
    "    \"RACa0xxe0xx return to a list [e0xx]\"\n",
    "    data = pd.read_csv(filename)\n",
    "    e_names = []\n",
    "    for i in data.name:\n",
    "        e_name = i[7:]\n",
    "        e_names.append(e_name)\n",
    "    return e_names\n",
    "    #print(e_names)\n",
    "#get_a_from_yield_csv(\"yield_data.csv\")\n",
    "#get_e_from_yield_csv(\"yield_data.csv\")\n",
    "\n",
    "def return_index(List):\n",
    "    index = []\n",
    "    for i in List:\n",
    "        if i[2] == '0':\n",
    "            j = int(i[3]) - 1\n",
    "        else:\n",
    "            j = int(i[2:]) -1\n",
    "        index.append(j)\n",
    "    return index\n",
    "# return_index(a_names)\n",
    "\n",
    "def get_feature(filename):\n",
    "    \"get feature as name and return to an array\"\n",
    "    with open(filename) as f:\n",
    "        ncols = len(f.readline().split(','))\n",
    "        #print(ncols) \n",
    "        #data = pd.read_csv(filename, delimiter=',', usecols=range(3,ncols), dtype = float)\n",
    "\n",
    "        if filename == 'a-chemopy-gauss-own-descriptors.csv':\n",
    "            data = pd.read_csv(filename, delimiter=',', usecols=range(3,ncols), dtype = float)\n",
    "            select_feature = []\n",
    "            for i in index_a:\n",
    "                select_feature.append(list(data.loc[i]))   \n",
    "        else:\n",
    "            data = pd.read_csv(filename, delimiter=',', usecols=range(2,ncols), dtype = float)\n",
    "            select_feature = []\n",
    "            for i in index_e:\n",
    "                select_feature.append(list(data.loc[i])) \n",
    "                \n",
    "    return(select_feature)"
   ]
  },
  {
   "cell_type": "code",
   "execution_count": 73,
   "metadata": {},
   "outputs": [],
   "source": [
    "a_names = get_a_from_yield_csv(\"yield_data.csv\")\n",
    "e_names = get_e_from_yield_csv(\"yield_data.csv\")\n",
    "index_a = return_index(a_names)\n",
    "index_e = return_index(e_names)\n",
    "select_feature_a = get_feature('a-chemopy-gauss-own-descriptors.csv')\n",
    "select_feature_e = get_feature('e-chemopy-gauss-own-descriptors.csv')"
   ]
  },
  {
   "cell_type": "code",
   "execution_count": 74,
   "metadata": {},
   "outputs": [
    {
     "name": "stdout",
     "output_type": "stream",
     "text": [
      "2283\n",
      "1142\n"
     ]
    }
   ],
   "source": [
    "print(len(select_feature_a[0]))\n",
    "print(len(select_feature_e[0]))"
   ]
  },
  {
   "cell_type": "code",
   "execution_count": 93,
   "metadata": {
    "collapsed": true
   },
   "outputs": [],
   "source": [
    "def get_feature_name(filename):\n",
    "    \n",
    "    with open(filename,'r') as csvfile:\n",
    "        reader = csv.reader(csvfile)\n",
    "        rows_feature = [row for row in reader]\n",
    "        name_feature = rows_feature[0]\n",
    "    return name_feature\n",
    "a_fe_name = get_feature_name('a-chemopy-gauss-own-descriptors.csv')[3:]\n",
    "e_fe_name = get_feature_name('e-chemopy-gauss-own-descriptors.csv')[2:]\n",
    "# print(e_fe_name)"
   ]
  },
  {
   "cell_type": "code",
   "execution_count": 94,
   "metadata": {},
   "outputs": [],
   "source": [
    "for i in range(len(a_fe_name)):\n",
    "    #f a_fe_name[i] == \"slogPVSA9\":\n",
    "        #rint(i) # 1140\\2282\n",
    "    if i <= 1140:\n",
    "        a_fe_name[i] = a_fe_name[i] + '-Br'\n",
    "    else:\n",
    "        a_fe_name[i] = a_fe_name[i] + '-N3'\n",
    "\n",
    "for i in range(len(e_fe_name)):\n",
    "    e_fe_name[i] = e_fe_name[i] + '-alkene'"
   ]
  },
  {
   "cell_type": "code",
   "execution_count": 95,
   "metadata": {},
   "outputs": [],
   "source": [
    "\n",
    "def list_add(list_1, list_2):\n",
    "    \"parparing for transform the two lists into a csv file\"\n",
    "    list_features = []\n",
    "    for i in range(len(list_1)):\n",
    "        \n",
    "        list_feature = list_1[i] + list_2[i]\n",
    "        list_features.append(list_feature)\n",
    "    return list_features\n",
    "\n",
    "name = a_fe_name + e_fe_name\n",
    "feature = list_add(select_feature_a , select_feature_e)"
   ]
  },
  {
   "cell_type": "code",
   "execution_count": 96,
   "metadata": {},
   "outputs": [],
   "source": [
    "featureCSV=pd.DataFrame(columns = name, data = feature)\n",
    "featureCSV.to_csv('RAC_data.csv',encoding='utf-8')"
   ]
  }
 ],
 "metadata": {
  "kernelspec": {
   "display_name": "Python 3",
   "language": "python",
   "name": "python3"
  },
  "language_info": {
   "codemirror_mode": {
    "name": "ipython",
    "version": 3
   },
   "file_extension": ".py",
   "mimetype": "text/x-python",
   "name": "python",
   "nbconvert_exporter": "python",
   "pygments_lexer": "ipython3",
   "version": "3.6.3"
  }
 },
 "nbformat": 4,
 "nbformat_minor": 2
}
