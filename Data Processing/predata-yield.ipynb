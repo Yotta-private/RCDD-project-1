{
 "cells": [
  {
   "cell_type": "code",
   "execution_count": 1,
   "metadata": {
    "collapsed": true
   },
   "outputs": [],
   "source": [
    "import rdkit\n",
    "from rdkit import Chem\n",
    "import numpy as np\n",
    "import pandas as pd\n",
    "import csv\n"
   ]
  },
  {
   "cell_type": "code",
   "execution_count": 17,
   "metadata": {},
   "outputs": [],
   "source": [
    "def get_a_from_yield_csv(filename):\n",
    "    \"RACa0xxe0xx return to a list [a0xx]\"\n",
    "    data = pd.read_csv(filename)\n",
    "    a_names = []\n",
    "    for i in data.name:\n",
    "        a_name = i[3:7]\n",
    "        a_names.append(a_name)\n",
    "    return a_names\n",
    "    #print(a_names)\n",
    "    \n",
    "def get_e_from_yield_csv(filename):\n",
    "    \"RACa0xxe0xx return to a list [e0xx]\"\n",
    "    data = pd.read_csv(filename)\n",
    "    e_names = []\n",
    "    for i in data.name:\n",
    "        e_name = i[7:]\n",
    "        e_names.append(e_name)\n",
    "    return e_names\n",
    "    #print(e_names)\n",
    "#get_a_from_yield_csv(\"yield_data.csv\")\n",
    "#get_e_from_yield_csv(\"yield_data.csv\")\n",
    "def return_index(List):\n",
    "    index = []\n",
    "    for i in List:\n",
    "        if i[2] == '0':\n",
    "            j = int(i[3]) - 1\n",
    "        else:\n",
    "            j = int(i[2:]) -1\n",
    "        index.append(j)\n",
    "    return index\n",
    "# return_index(a_names)"
   ]
  },
  {
   "cell_type": "code",
   "execution_count": 18,
   "metadata": {},
   "outputs": [],
   "source": [
    "a_yield = get_a_from_yield_csv(\"yield_data.csv\")\n",
    "e_yield = get_e_from_yield_csv(\"yield_data.csv\")\n",
    "index_a = return_index(a_yield)\n",
    "index_e = return_index(e_yield)\n",
    "a_smi = pd.read_csv(\"a-br-smiles.csv\")\n",
    "e_smi = pd.read_csv(\"e-smiles.csv\")\n",
    "a_smi = list(a_smi.smiles)\n",
    "e_smi = list(e_smi.smiles)"
   ]
  },
  {
   "cell_type": "code",
   "execution_count": 20,
   "metadata": {},
   "outputs": [],
   "source": [
    "smi_1 = []\n",
    "for i in index_a:\n",
    "    smi_1.append(a_smi[i])\n",
    "    \n",
    "smi_2 = []\n",
    "for j in index_e:\n",
    "    smi_2.append(e_smi[j])"
   ]
  },
  {
   "cell_type": "code",
   "execution_count": 22,
   "metadata": {},
   "outputs": [
    {
     "name": "stdout",
     "output_type": "stream",
     "text": [
      "702\n",
      "702\n"
     ]
    }
   ],
   "source": [
    "print(len(smi_1))\n",
    "print(len(smi_2))"
   ]
  },
  {
   "cell_type": "code",
   "execution_count": 40,
   "metadata": {},
   "outputs": [
    {
     "name": "stdout",
     "output_type": "stream",
     "text": [
      "702\n"
     ]
    }
   ],
   "source": [
    "data = pd.read_csv(\"yield_data.csv\")\n",
    "\n",
    "dyield = list(data[\"yield\"])\n",
    "dtype = list(data[\"type\"])\n",
    "\n",
    "Lists = []\n",
    "for i in range(len(smi_1)):   \n",
    "    List = [smi_1[i],smi_2[i],dyield[i],dtype[i]]\n",
    "    Lists.append(List)\n",
    "print(len(Lists))"
   ]
  },
  {
   "cell_type": "code",
   "execution_count": 42,
   "metadata": {
    "collapsed": true
   },
   "outputs": [],
   "source": [
    "###write\n",
    "dataCSV=pd.DataFrame(data = Lists)\n",
    "dataCSV.to_csv('RAC_data_yield.csv',encoding='utf-8')"
   ]
  },
  {
   "cell_type": "code",
   "execution_count": null,
   "metadata": {
    "collapsed": true
   },
   "outputs": [],
   "source": []
  }
 ],
 "metadata": {
  "kernelspec": {
   "display_name": "Python 3",
   "language": "python",
   "name": "python3"
  },
  "language_info": {
   "codemirror_mode": {
    "name": "ipython",
    "version": 3
   },
   "file_extension": ".py",
   "mimetype": "text/x-python",
   "name": "python",
   "nbconvert_exporter": "python",
   "pygments_lexer": "ipython3",
   "version": "3.6.3"
  }
 },
 "nbformat": 4,
 "nbformat_minor": 2
}
