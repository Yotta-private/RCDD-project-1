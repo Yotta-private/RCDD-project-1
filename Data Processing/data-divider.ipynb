{
 "cells": [
  {
   "cell_type": "code",
   "execution_count": 1,
   "metadata": {},
   "outputs": [
    {
     "name": "stdout",
     "output_type": "stream",
     "text": [
      "(702, 3428) (211, 3428) (491, 3428)\n"
     ]
    }
   ],
   "source": [
    "# data_divider for moe feature\n",
    "import pandas as pd\n",
    "\n",
    "df = pd.read_csv('data.csv')\n",
    "df.drop_duplicates(keep='first', inplace=True) #去重\n",
    "\n",
    "df = df.sample(frac = 1) #0-1\n",
    "cut_idx = int(round(0.3 * df.shape[0]))\n",
    "df_test, df_train = df.iloc[:cut_idx], df.iloc[cut_idx:]\n",
    "\n",
    "df_test.to_csv(\"test.csv\", index=None) \n",
    "df_train.to_csv(\"train.csv\", index=None)\n",
    "\n",
    "print(df.shape, df_test.shape, df_train.shape)"
   ]
  },
  {
   "cell_type": "code",
   "execution_count": null,
   "metadata": {
    "collapsed": true
   },
   "outputs": [],
   "source": []
  }
 ],
 "metadata": {
  "kernelspec": {
   "display_name": "Python 3",
   "language": "python",
   "name": "python3"
  },
  "language_info": {
   "codemirror_mode": {
    "name": "ipython",
    "version": 3
   },
   "file_extension": ".py",
   "mimetype": "text/x-python",
   "name": "python",
   "nbconvert_exporter": "python",
   "pygments_lexer": "ipython3",
   "version": "3.6.3"
  }
 },
 "nbformat": 4,
 "nbformat_minor": 2
}
