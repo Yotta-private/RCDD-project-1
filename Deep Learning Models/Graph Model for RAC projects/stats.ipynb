{
 "cells": [
  {
   "cell_type": "code",
   "execution_count": 1,
   "metadata": {
    "collapsed": true
   },
   "outputs": [],
   "source": [
    "from __future__ import print_function\n",
    "import numpy as np"
   ]
  },
  {
   "cell_type": "code",
   "execution_count": 2,
   "metadata": {
    "collapsed": true
   },
   "outputs": [],
   "source": [
    "def mse(x, y):\n",
    "    '''Mean-squared error of two 1D numpy arrays or Python lists'''\n",
    "    x = np.array(x)\n",
    "    y = np.array(y)\n",
    "    return np.mean((x - y) ** 2)\n",
    "\n",
    "def mae(x, y):\n",
    "    '''Mean absolute error of two 1D numpy arrays or Python lists'''\n",
    "    x = np.array(x)\n",
    "    y = np.array(y)\n",
    "    return np.mean(np.abs(x - y))\n",
    "\n",
    "def q(y_true, y_pred):\n",
    "    '''q value as described in Tropsha, Gramatica, Gombar:\n",
    "    The Importance of Being Earnest'''\n",
    "    y_true = np.array(y_true)\n",
    "    y_pred = np.array(y_pred)\n",
    "    y_mean = np.mean(y_true)\n",
    "    return 1 - np.sum((y_true - y_pred) ** 2) / np.sum((y_true - y_mean) ** 2)\n",
    "\n",
    "def linreg(x, y):\n",
    "    '''Computes a linear regression through the origin using OLS'''\n",
    "    x = np.array(x)\n",
    "    y = np.array(y)\n",
    "    x = x[:, np.newaxis]\n",
    "    a, _, _, _ = np.linalg.lstsq(x, y)\n",
    "    r2 = q(y, (x * a)[:, 0])\n",
    "    return (r2, a)"
   ]
  },
  {
   "cell_type": "code",
   "execution_count": null,
   "metadata": {
    "collapsed": true
   },
   "outputs": [],
   "source": []
  }
 ],
 "metadata": {
  "kernelspec": {
   "display_name": "Python 3",
   "language": "python",
   "name": "python3"
  },
  "language_info": {
   "codemirror_mode": {
    "name": "ipython",
    "version": 3
   },
   "file_extension": ".py",
   "mimetype": "text/x-python",
   "name": "python",
   "nbconvert_exporter": "python",
   "pygments_lexer": "ipython3",
   "version": "3.6.3"
  }
 },
 "nbformat": 4,
 "nbformat_minor": 2
}
