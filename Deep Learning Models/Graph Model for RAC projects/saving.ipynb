{
 "cells": [
  {
   "cell_type": "code",
   "execution_count": 1,
   "metadata": {
    "collapsed": true
   },
   "outputs": [],
   "source": [
    "from __future__ import print_function\n",
    "import datetime"
   ]
  },
  {
   "cell_type": "code",
   "execution_count": 2,
   "metadata": {
    "collapsed": true
   },
   "outputs": [],
   "source": [
    "def save_model_history(hist, fpath):\n",
    "    \n",
    "    ''''This function saves the history returned by model.fit to a tab-delimited file, where model is a keras model'''\n",
    "\n",
    "    # Open file\n",
    "    fid = open(fpath, 'a')\n",
    "    print('trained at {}'.format(datetime.datetime.utcnow()))\n",
    "    print('iteration\\tnum_batches\\tbatch_size\\tloss\\tval_loss', file = fid)\n",
    "\n",
    "    try:\n",
    "        # Iterate through\n",
    "        for i in range(len(hist.history['batch'])):\n",
    "            print('{}\\t{}\\t{}\\t{}\\t{}'.format(i + 1, \n",
    "                            hist.history['batch'][i],\n",
    "                            hist.history['size'][i],\n",
    "                            hist.history['loss'][i], \n",
    "                            hist.history['val_loss'][i] if 'val_loss' in hist.history else 'n/a'),\n",
    "                            file = fid)\n",
    "    except KeyError:\n",
    "        print('<no history found>', file = fid)\n",
    "\n",
    "    # Close file\n",
    "    fid.close()\n",
    "    return True\n",
    "\n",
    "def save_model_history_manual(loss, val_loss, fpath):\n",
    "    \n",
    "    ''''This function saves the history returned by model.fit to a tab-delimited file, where model is a keras model'''\n",
    "\n",
    "    # Open file\n",
    "    fid = open(fpath, 'a')\n",
    "    print('trained at {}'.format(datetime.datetime.utcnow()))\n",
    "    print('iteration\\tloss\\tval_loss', file = fid)\n",
    "\n",
    "    try:\n",
    "        # Iterate through\n",
    "        for i in range(len(loss)):\n",
    "            print('{}\\t{}\\t{}'.format(i + 1, \n",
    "                            loss[i], val_loss[i]),\n",
    "                            file = fid)\n",
    "    except KeyError:\n",
    "        print('<no history found>', file = fid)\n",
    "\n",
    "    # Close file\n",
    "    fid.close()\n",
    "    return True"
   ]
  },
  {
   "cell_type": "code",
   "execution_count": null,
   "metadata": {
    "collapsed": true
   },
   "outputs": [],
   "source": []
  }
 ],
 "metadata": {
  "kernelspec": {
   "display_name": "Python 3",
   "language": "python",
   "name": "python3"
  },
  "language_info": {
   "codemirror_mode": {
    "name": "ipython",
    "version": 3
   },
   "file_extension": ".py",
   "mimetype": "text/x-python",
   "name": "python",
   "nbconvert_exporter": "python",
   "pygments_lexer": "ipython3",
   "version": "3.6.3"
  }
 },
 "nbformat": 4,
 "nbformat_minor": 2
}
