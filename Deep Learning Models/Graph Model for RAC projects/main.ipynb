{
 "cells": [
  {
   "cell_type": "code",
   "execution_count": 1,
   "metadata": {},
   "outputs": [
    {
     "name": "stderr",
     "output_type": "stream",
     "text": [
      "C:\\ProgramData\\Anaconda3\\lib\\site-packages\\h5py\\__init__.py:34: FutureWarning: Conversion of the second argument of issubdtype from `float` to `np.floating` is deprecated. In future, it will be treated as `np.float64 == np.dtype(float).type`.\n",
      "  from ._conv import register_converters as _register_converters\n",
      "Using Theano backend.\n"
     ]
    }
   ],
   "source": [
    "from __future__ import print_function\n",
    "#from parse_cfg import read_config\n",
    "import reset_layers as reset_layers\n",
    "import rdkit.Chem as Chem\n",
    "import numpy as np\n",
    "import datetime\n",
    "import json\n",
    "import sys\n",
    "import os\n",
    "import time\n",
    "from data import *\n",
    "\n",
    "from core import build_model, train_model, save_model\n",
    "from Test import test_model, test_embeddings_demo"
   ]
  },
  {
   "cell_type": "code",
   "execution_count": 2,
   "metadata": {
    "scrolled": false
   },
   "outputs": [
    {
     "name": "stdout",
     "output_type": "stream",
     "text": [
      "...building model\n",
      "    model: added GraphFP layer (mol_a & mol_e -> 512)\n"
     ]
    },
    {
     "name": "stderr",
     "output_type": "stream",
     "text": [
      "E:\\jupyter\\workspace\\RAC\\graph_model\\core.py:93: UserWarning: The `merge` function is deprecated and will be removed after 08/2017. Use instead layers from `keras.layers.merge`, e.g. `add`, `concatenate`, etc.\n",
      "  FPs = merge(FPS, mode = 'concat', concat_axis= 1, name = 'mix fps')\n",
      "C:\\ProgramData\\Anaconda3\\lib\\site-packages\\keras\\legacy\\layers.py:465: UserWarning: The `Merge` layer is deprecated and will be removed after 08/2017. Use instead layers from `keras.layers.merge`, e.g. `add`, `concatenate`, etc.\n",
      "  name=name)\n"
     ]
    },
    {
     "name": "stdout",
     "output_type": "stream",
     "text": [
      "    model: added tanh Dense layer (-> 512)\n",
      "    model: added tanh Dense layer (-> 50)\n",
      "    model: added output Dense layer (-> 1)\n"
     ]
    },
    {
     "name": "stderr",
     "output_type": "stream",
     "text": [
      "E:\\jupyter\\workspace\\RAC\\graph_model\\core.py:116: UserWarning: Update your `Model` call to the Keras 2 API: `Model(inputs=[/feature ..., outputs=[Softmax.0...)`\n",
      "  output = [ypred])\n"
     ]
    },
    {
     "name": "stdout",
     "output_type": "stream",
     "text": [
      "__________________________________________________________________________________________________\n",
      "Layer (type)                    Output Shape         Param #     Connected to                     \n",
      "==================================================================================================\n",
      "feature graph (InputLayer)      (None, None, None, 4 0                                            \n",
      "__________________________________________________________________________________________________\n",
      "ecfps (InputLayer)              (None, 512)          0                                            \n",
      "__________________________________________________________________________________________________\n",
      "graph_fp_1 (GraphFP)            (None, 512)          66120       feature graph[0][0]              \n",
      "__________________________________________________________________________________________________\n",
      "mix fps (Merge)                 (None, 1024)         0           ecfps[0][0]                      \n",
      "                                                                 graph_fp_1[0][0]                 \n",
      "__________________________________________________________________________________________________\n",
      "dense_1 (Dense)                 (None, 512)          524800      mix fps[0][0]                    \n",
      "__________________________________________________________________________________________________\n",
      "dense_2 (Dense)                 (None, 50)           25650       dense_1[0][0]                    \n",
      "__________________________________________________________________________________________________\n",
      "dropout_2 (Dropout)             (None, 50)           0           dense_2[0][0]                    \n",
      "__________________________________________________________________________________________________\n",
      "dense_3 (Dense)                 (None, 1)            51          dropout_2[0][0]                  \n",
      "==================================================================================================\n",
      "Total params: 616,621\n",
      "Trainable params: 616,621\n",
      "Non-trainable params: 0\n",
      "__________________________________________________________________________________________________\n",
      "compiling...\n",
      "done\n",
      "...built untrained model\n",
      "reading data...\n",
      "done\n",
      "processing data...\n",
      "Using first fraction (0.8) as training\n",
      "Training size: 561\n",
      "Validation size: 70\n",
      "Testing size: 71\n",
      "...training model\n",
      "561 to train on\n",
      "70 to validate on\n",
      "70 to test on\n"
     ]
    },
    {
     "name": "stderr",
     "output_type": "stream",
     "text": [
      "E:\\jupyter\\workspace\\RAC\\graph_model\\core.py:307: UserWarning: The `nb_epoch` argument in `fit` has been renamed `epochs`.\n",
      "  callbacks = callbacks)\n"
     ]
    },
    {
     "name": "stdout",
     "output_type": "stream",
     "text": [
      "Train on 561 samples, validate on 70 samples\n",
      "Epoch 1/100\n",
      "561/561 [==============================] - ETA: 11s - loss: 10.711 - ETA: 8s - loss: 9.8394  - ETA: 7s - loss: 9.797 - ETA: 6s - loss: 10.08 - ETA: 4s - loss: 10.01 - ETA: 3s - loss: 9.7564 - ETA: 2s - loss: 9.750 - ETA: 1s - loss: 9.714 - 12s 21ms/step - loss: 9.6336 - val_loss: 7.0602\n",
      "Epoch 2/100\n",
      "561/561 [==============================] - ETA: 10s - loss: 9.71 - ETA: 9s - loss: 9.4658 - ETA: 8s - loss: 9.797 - ETA: 6s - loss: 9.839 - ETA: 5s - loss: 9.565 - ETA: 3s - loss: 9.548 - ETA: 2s - loss: 9.430 - ETA: 1s - loss: 9.621 - 12s 21ms/step - loss: 9.6336 - val_loss: 7.0602\n",
      "Epoch 3/100\n",
      "561/561 [==============================] - ETA: 9s - loss: 7.722 - ETA: 8s - loss: 8.593 - ETA: 7s - loss: 8.801 - ETA: 6s - loss: 9.154 - ETA: 4s - loss: 9.366 - ETA: 3s - loss: 9.424 - ETA: 2s - loss: 9.608 - ETA: 1s - loss: 9.714 - 12s 21ms/step - loss: 9.6336 - val_loss: 7.0602\n",
      "Epoch 4/100\n",
      "561/561 [==============================] - ETA: 9s - loss: 10.21 - ETA: 8s - loss: 10.71 - ETA: 7s - loss: 9.9640 - ETA: 6s - loss: 9.901 - ETA: 4s - loss: 9.615 - ETA: 3s - loss: 9.756 - ETA: 2s - loss: 9.750 - ETA: 0s - loss: 9.714 - 12s 21ms/step - loss: 9.6336 - val_loss: 7.0602\n",
      "Epoch 5/100\n",
      "561/561 [==============================] - ETA: 9s - loss: 9.714 - ETA: 8s - loss: 8.967 - ETA: 7s - loss: 9.050 - ETA: 6s - loss: 9.403 - ETA: 4s - loss: 9.166 - ETA: 3s - loss: 9.341 - ETA: 2s - loss: 9.572 - ETA: 0s - loss: 9.714 - 11s 20ms/step - loss: 9.6336 - val_loss: 7.0602\n",
      "Epoch 6/100\n",
      "561/561 [==============================] - ETA: 9s - loss: 9.465 - ETA: 8s - loss: 9.092 - ETA: 7s - loss: 9.797 - ETA: 6s - loss: 10.02 - ETA: 4s - loss: 9.3662 - ETA: 3s - loss: 9.465 - ETA: 2s - loss: 9.501 - ETA: 0s - loss: 9.621 - 12s 21ms/step - loss: 9.6336 - val_loss: 7.0602\n",
      "Epoch 7/100\n",
      "561/561 [==============================] - ETA: 9s - loss: 8.718 - ETA: 8s - loss: 9.714 - ETA: 7s - loss: 10.04 - ETA: 6s - loss: 10.02 - ETA: 4s - loss: 9.6651 - ETA: 3s - loss: 9.756 - ETA: 2s - loss: 9.679 - ETA: 0s - loss: 9.777 - 11s 20ms/step - loss: 9.6336 - val_loss: 7.0602\n",
      "Epoch 8/100\n",
      "561/561 [==============================] - ETA: 9s - loss: 10.46 - ETA: 8s - loss: 9.7149 - ETA: 7s - loss: 9.881 - ETA: 6s - loss: 9.777 - ETA: 4s - loss: 9.814 - ETA: 3s - loss: 9.631 - ETA: 2s - loss: 9.679 - ETA: 0s - loss: 9.808 - 12s 21ms/step - loss: 9.6336 - val_loss: 7.0602\n",
      "Epoch 9/100\n",
      "561/561 [==============================] - ETA: 9s - loss: 9.964 - ETA: 8s - loss: 10.33 - ETA: 7s - loss: 10.13 - ETA: 6s - loss: 9.7149 - ETA: 4s - loss: 9.615 - ETA: 3s - loss: 9.548 - ETA: 2s - loss: 9.679 - ETA: 0s - loss: 9.621 - 12s 21ms/step - loss: 9.6336 - val_loss: 7.0602\n",
      "Epoch 10/100\n",
      "561/561 [==============================] - ETA: 10s - loss: 8.22 - ETA: 8s - loss: 8.4694 - ETA: 7s - loss: 9.133 - ETA: 6s - loss: 8.656 - ETA: 4s - loss: 8.967 - ETA: 3s - loss: 9.092 - ETA: 2s - loss: 9.430 - ETA: 0s - loss: 9.746 - 11s 20ms/step - loss: 9.6336 - val_loss: 7.0602\n",
      "Epoch 11/100\n",
      "561/561 [==============================] - ETA: 10s - loss: 11.458 - ETA: 8s - loss: 10.337 - ETA: 7s - loss: 9.6319 - ETA: 6s - loss: 9.777 - ETA: 4s - loss: 9.764 - ETA: 3s - loss: 9.881 - ETA: 2s - loss: 9.750 - ETA: 0s - loss: 9.714 - 12s 21ms/step - loss: 9.6336 - val_loss: 7.0602\n",
      "...trained model\n",
      "...saving model\n",
      "...saved structural information\n",
      "...saved weights\n",
      "trained at 2019-05-21 06:17:51.271343\n",
      "...saved history\n",
      "...saved model to .[json, h5, png, info]\n",
      "...saved model\n",
      "...testing model\n"
     ]
    },
    {
     "name": "stderr",
     "output_type": "stream",
     "text": [
      "100%|████████████████████████████████████████| 561/561 [00:07<00:00, 75.58it/s]\n",
      "100%|█████████████████████████████████████████| 70/70 [00:00<00:00, 174.12it/s]\n",
      "100%|█████████████████████████████████████████| 71/71 [00:00<00:00, 162.46it/s]\n"
     ]
    },
    {
     "name": "stdout",
     "output_type": "stream",
     "text": [
      "[0. 1. 1. 0. 1. 1. 0. 0. 1. 1. 0. 1. 0. 1. 1. 1. 1. 1. 0. 0. 1. 0. 0. 0.\n",
      " 0. 0. 1. 1. 0. 0. 0. 1. 1. 0. 1. 0. 0. 1. 0. 0. 0. 0. 0. 0. 0. 1. 0. 1.\n",
      " 1. 0. 1. 1. 0. 0. 0. 0. 0. 0. 1. 1. 1. 0. 0. 0. 1. 0. 0. 1. 0. 0. 0. 1.\n",
      " 0. 0. 1. 0. 0. 0. 1. 0. 1. 1. 0. 0. 0. 0. 1. 0. 1. 0. 0. 1. 0. 1. 0. 1.\n",
      " 0. 1. 0. 1. 0. 0. 0. 0. 1. 1. 0. 0. 1. 0. 0. 0. 0. 1. 0. 1. 1. 1. 0. 0.\n",
      " 1. 0. 1. 0. 1. 1. 0. 1. 0. 0. 1. 0. 1. 0. 0. 1. 0. 1. 0. 0. 0. 1. 1. 0.\n",
      " 0. 1. 0. 1. 1. 0. 1. 0. 0. 1. 1. 0. 0. 0. 1. 1. 0. 0. 1. 1. 0. 1. 0. 1.\n",
      " 0. 1. 0. 0. 1. 1. 0. 1. 0. 1. 0. 0. 1. 1. 0. 0. 0. 0. 0. 0. 1. 1. 0. 1.\n",
      " 0. 1. 0. 1. 0. 0. 0. 0. 1. 1. 1. 0. 0. 1. 1. 0. 0. 1. 0. 0. 1. 0. 1. 0.\n",
      " 0. 0. 1. 1. 1. 0. 0. 0. 0. 1. 1. 0. 0. 0. 0. 0. 0. 1. 0. 0. 0. 1. 0. 1.\n",
      " 0. 1. 1. 0. 0. 0. 0. 0. 1. 0. 0. 1. 0. 0. 0. 1. 1. 1. 1. 0. 1. 0. 1. 0.\n",
      " 1. 1. 1. 0. 1. 0. 1. 1. 0. 1. 0. 0. 0. 0. 0. 0. 0. 0. 1. 0. 1. 0. 0. 1.\n",
      " 0. 1. 1. 0. 1. 1. 0. 1. 1. 1. 0. 0. 1. 0. 0. 0. 0. 0. 0. 0. 0. 0. 0. 0.\n",
      " 1. 1. 1. 0. 0. 0. 1. 1. 1. 0. 1. 1. 0. 0. 1. 0. 1. 1. 1. 0. 1. 0. 1. 1.\n",
      " 0. 0. 0. 0. 0. 1. 1. 0. 0. 0. 1. 1. 1. 0. 0. 1. 0. 1. 0. 0. 1. 0. 1. 0.\n",
      " 0. 0. 0. 1. 1. 0. 0. 0. 0. 1. 1. 1. 0. 0. 0. 0. 0. 0. 0. 0. 0. 1. 0. 1.\n",
      " 1. 1. 0. 0. 1. 0. 1. 0. 0. 1. 1. 0. 1. 0. 1. 0. 0. 0. 0. 0. 0. 1. 0. 0.\n",
      " 1. 0. 0. 0. 1. 0. 1. 0. 0. 1. 0. 0. 0. 0. 1. 0. 0. 0. 0. 0. 1. 1. 0. 0.\n",
      " 0. 1. 1. 0. 1. 1. 0. 0. 0. 1. 0. 0. 0. 1. 0. 0. 0. 1. 0. 0. 0. 0. 1. 0.\n",
      " 0. 1. 1. 1. 0. 0. 0. 1. 0. 0. 0. 1. 0. 0. 1. 0. 0. 1. 1. 1. 1. 1. 0. 0.\n",
      " 0. 0. 0. 1. 0. 0. 0. 1. 1. 0. 1. 0. 0. 0. 1. 0. 0. 0. 1. 0. 0. 0. 0. 0.\n",
      " 1. 0. 1. 0. 1. 1. 0. 0. 1. 0. 0. 1. 0. 0. 1. 1. 0. 0. 1. 0. 0. 0. 0. 0.\n",
      " 0. 0. 1. 0. 0. 1. 0. 1. 1. 0. 1. 1. 1. 0. 0. 0. 0. 0. 0. 0. 1. 0. 0. 0.\n",
      " 1. 0. 1. 1. 0. 1. 1. 1. 0.]\n",
      "(561,)\n",
      "[1. 1. 1. 1. 1. 1. 1. 1. 1. 1. 1. 1. 1. 1. 1. 1. 1. 1. 1. 1. 1. 1. 1. 1.\n",
      " 1. 1. 1. 1. 1. 1. 1. 1. 1. 1. 1. 1. 1. 1. 1. 1. 1. 1. 1. 1. 1. 1. 1. 1.\n",
      " 1. 1. 1. 1. 1. 1. 1. 1. 1. 1. 1. 1. 1. 1. 1. 1. 1. 1. 1. 1. 1. 1. 1. 1.\n",
      " 1. 1. 1. 1. 1. 1. 1. 1. 1. 1. 1. 1. 1. 1. 1. 1. 1. 1. 1. 1. 1. 1. 1. 1.\n",
      " 1. 1. 1. 1. 1. 1. 1. 1. 1. 1. 1. 1. 1. 1. 1. 1. 1. 1. 1. 1. 1. 1. 1. 1.\n",
      " 1. 1. 1. 1. 1. 1. 1. 1. 1. 1. 1. 1. 1. 1. 1. 1. 1. 1. 1. 1. 1. 1. 1. 1.\n",
      " 1. 1. 1. 1. 1. 1. 1. 1. 1. 1. 1. 1. 1. 1. 1. 1. 1. 1. 1. 1. 1. 1. 1. 1.\n",
      " 1. 1. 1. 1. 1. 1. 1. 1. 1. 1. 1. 1. 1. 1. 1. 1. 1. 1. 1. 1. 1. 1. 1. 1.\n",
      " 1. 1. 1. 1. 1. 1. 1. 1. 1. 1. 1. 1. 1. 1. 1. 1. 1. 1. 1. 1. 1. 1. 1. 1.\n",
      " 1. 1. 1. 1. 1. 1. 1. 1. 1. 1. 1. 1. 1. 1. 1. 1. 1. 1. 1. 1. 1. 1. 1. 1.\n",
      " 1. 1. 1. 1. 1. 1. 1. 1. 1. 1. 1. 1. 1. 1. 1. 1. 1. 1. 1. 1. 1. 1. 1. 1.\n",
      " 1. 1. 1. 1. 1. 1. 1. 1. 1. 1. 1. 1. 1. 1. 1. 1. 1. 1. 1. 1. 1. 1. 1. 1.\n",
      " 1. 1. 1. 1. 1. 1. 1. 1. 1. 1. 1. 1. 1. 1. 1. 1. 1. 1. 1. 1. 1. 1. 1. 1.\n",
      " 1. 1. 1. 1. 1. 1. 1. 1. 1. 1. 1. 1. 1. 1. 1. 1. 1. 1. 1. 1. 1. 1. 1. 1.\n",
      " 1. 1. 1. 1. 1. 1. 1. 1. 1. 1. 1. 1. 1. 1. 1. 1. 1. 1. 1. 1. 1. 1. 1. 1.\n",
      " 1. 1. 1. 1. 1. 1. 1. 1. 1. 1. 1. 1. 1. 1. 1. 1. 1. 1. 1. 1. 1. 1. 1. 1.\n",
      " 1. 1. 1. 1. 1. 1. 1. 1. 1. 1. 1. 1. 1. 1. 1. 1. 1. 1. 1. 1. 1. 1. 1. 1.\n",
      " 1. 1. 1. 1. 1. 1. 1. 1. 1. 1. 1. 1. 1. 1. 1. 1. 1. 1. 1. 1. 1. 1. 1. 1.\n",
      " 1. 1. 1. 1. 1. 1. 1. 1. 1. 1. 1. 1. 1. 1. 1. 1. 1. 1. 1. 1. 1. 1. 1. 1.\n",
      " 1. 1. 1. 1. 1. 1. 1. 1. 1. 1. 1. 1. 1. 1. 1. 1. 1. 1. 1. 1. 1. 1. 1. 1.\n",
      " 1. 1. 1. 1. 1. 1. 1. 1. 1. 1. 1. 1. 1. 1. 1. 1. 1. 1. 1. 1. 1. 1. 1. 1.\n",
      " 1. 1. 1. 1. 1. 1. 1. 1. 1. 1. 1. 1. 1. 1. 1. 1. 1. 1. 1. 1. 1. 1. 1. 1.\n",
      " 1. 1. 1. 1. 1. 1. 1. 1. 1. 1. 1. 1. 1. 1. 1. 1. 1. 1. 1. 1. 1. 1. 1. 1.\n",
      " 1. 1. 1. 1. 1. 1. 1. 1. 1.]\n",
      "(561,)\n",
      "train:\n",
      "  AUC = 0.5\n"
     ]
    },
    {
     "name": "stderr",
     "output_type": "stream",
     "text": [
      "E:\\jupyter\\workspace\\RAC\\graph_model\\stats.py:39: FutureWarning: `rcond` parameter will change to the default of machine precision times ``max(M, N)`` where M and N are the input matrix dimensions.\n",
      "To use the future default and silence this warning we advise to pass `rcond=None`, to keep using the old, explicitly pass `rcond=-1`.\n",
      "  a, _, _, _ = np.linalg.lstsq(x, y)\n"
     ]
    },
    {
     "name": "stdout",
     "output_type": "stream",
     "text": [
      "  mse = 0.6042780748663101, mae = 0.6042780748663101\n",
      "  q = -1.5270270270270263\n",
      "  r2 through origin = -inf (pred v. true), 4.440892098500626e-16 (true v. pred)\n",
      "  slope through origin = 1.0000000000000004 (pred v. true), 0.39572192513369003 (true v. pred)\n",
      "cannot convert float infinity to integer\n",
      "[0. 0. 0. 1. 1. 1. 0. 1. 1. 1. 1. 1. 0. 1. 1. 1. 1. 0. 0. 1. 1. 1. 0. 0.\n",
      " 1. 0. 1. 0. 0. 1. 1. 0. 1. 1. 1. 0. 0. 0. 1. 0. 0. 1. 1. 0. 1. 0. 0. 0.\n",
      " 0. 1. 0. 1. 1. 1. 0. 1. 0. 0. 1. 1. 0. 1. 1. 0. 0. 1. 1. 0. 1. 1.]\n",
      "(70,)\n",
      "[1. 1. 1. 1. 1. 1. 1. 1. 1. 1. 1. 1. 1. 1. 1. 1. 1. 1. 1. 1. 1. 1. 1. 1.\n",
      " 1. 1. 1. 1. 1. 1. 1. 1. 1. 1. 1. 1. 1. 1. 1. 1. 1. 1. 1. 1. 1. 1. 1. 1.\n",
      " 1. 1. 1. 1. 1. 1. 1. 1. 1. 1. 1. 1. 1. 1. 1. 1. 1. 1. 1. 1. 1. 1.]\n",
      "(70,)\n",
      "test:\n",
      "  AUC = 0.5\n"
     ]
    },
    {
     "name": "stderr",
     "output_type": "stream",
     "text": [
      "E:\\jupyter\\workspace\\RAC\\graph_model\\stats.py:39: FutureWarning: `rcond` parameter will change to the default of machine precision times ``max(M, N)`` where M and N are the input matrix dimensions.\n",
      "To use the future default and silence this warning we advise to pass `rcond=None`, to keep using the old, explicitly pass `rcond=-1`.\n",
      "  a, _, _, _ = np.linalg.lstsq(x, y)\n"
     ]
    },
    {
     "name": "stdout",
     "output_type": "stream",
     "text": [
      "  mse = 0.44285714285714284, mae = 0.44285714285714284\n",
      "  q = -0.7948717948717952\n",
      "  r2 through origin = -inf (pred v. true), 0.0 (true v. pred)\n",
      "  slope through origin = 1.0 (pred v. true), 0.5571428571428572 (true v. pred)\n",
      "cannot convert float infinity to integer\n",
      "[0. 0. 0. 1. 1. 1. 0. 1. 1. 1. 0. 1. 1. 0. 0. 1. 0. 1. 0. 1. 0. 1. 0. 0.\n",
      " 0. 1. 1. 1. 0. 1. 0. 0. 0. 1. 1. 0. 1. 0. 0. 1. 1. 0. 1. 1. 0. 0. 0. 1.\n",
      " 0. 1. 0. 1. 1. 0. 1. 0. 1. 1. 1. 0. 1. 0. 1. 1. 1. 0. 1. 0. 0. 0. 0.]\n",
      "(71,)\n",
      "[1. 1. 1. 1. 1. 1. 1. 1. 1. 1. 1. 1. 1. 1. 1. 1. 1. 1. 1. 1. 1. 1. 1. 1.\n",
      " 1. 1. 1. 1. 1. 1. 1. 1. 1. 1. 1. 1. 1. 1. 1. 1. 1. 1. 1. 1. 1. 1. 1. 1.\n",
      " 1. 1. 1. 1. 1. 1. 1. 1. 1. 1. 1. 1. 1. 1. 1. 1. 1. 1. 1. 1. 1. 1. 1.]\n",
      "(71,)\n",
      "test:\n",
      "  AUC = 0.5\n"
     ]
    },
    {
     "name": "stderr",
     "output_type": "stream",
     "text": [
      "E:\\jupyter\\workspace\\RAC\\graph_model\\stats.py:39: FutureWarning: `rcond` parameter will change to the default of machine precision times ``max(M, N)`` where M and N are the input matrix dimensions.\n",
      "To use the future default and silence this warning we advise to pass `rcond=None`, to keep using the old, explicitly pass `rcond=-1`.\n",
      "  a, _, _, _ = np.linalg.lstsq(x, y)\n"
     ]
    },
    {
     "name": "stdout",
     "output_type": "stream",
     "text": [
      "  mse = 0.49295774647887325, mae = 0.49295774647887325\n",
      "  q = -0.9722222222222219\n",
      "  r2 through origin = -inf (pred v. true), 4.440892098500626e-16 (true v. pred)\n",
      "  slope through origin = 1.0 (pred v. true), 0.507042253521127 (true v. pred)\n",
      "cannot convert float infinity to integer\n",
      "...tested model\n"
     ]
    }
   ],
   "source": [
    "\n",
    "# Iterate through all folds\n",
    "#all_cv_folds = range(5)\n",
    "\n",
    "#ref_fpath = fpath\n",
    "#for cv_fold in all_cv_folds:\n",
    "    # BUILD MODEL\n",
    "print('...building model')\n",
    "\n",
    "model = build_model(embedding_size = 512, lr = 0.01, optimizer = 'adam', depth = 2, \n",
    "scale_output = 0.01, padding = True, hidden = 512, hidden2 = 50, loss = 'custom2', hidden_activation = 'tanh',\n",
    "output_activation = 'softmax', dr1 = 0.5, dr2 = 0.5, output_size = 1, sum_after = False,\n",
    "molecular_attributes = True, use_fp = None, inner_rep = 32)\n",
    "\n",
    "print('...built untrained model')\n",
    "\n",
    "# print('Using CV fold {}'.format(cv_fold))\n",
    "\n",
    "#fpath = ref_fpath.replace('<this_fold>', cv_fold.split('/')[0])\n",
    "\n",
    "data = get_data(shuffle_seed = None, batch_size = 64, data_split = 'ratio', truncate_to = None, training_ratio = 0.8,\n",
    "molecular_attributes = True, use_fp = None, padding = True)\n",
    "\n",
    "#LOAD WEIGHTS?\n",
    "# Testing embeddings?\n",
    "#TRAIN THE MODEL\n",
    "\n",
    "print('...training model')\n",
    "(Model, loss, val_loss) = train_model(model, data, nb_epoch = 100, batch_size = 64, lr_func = None , patience = 10)\n",
    "print('...trained model')\n",
    "\n",
    "#SAVE MODEL\n",
    "# Get the current time\n",
    "#tstamp = datetime.datetime.utcnow().strftime('%m-%d-%Y_%H-%M')\n",
    "print('...saving model')\n",
    "save_model(model, loss,val_loss) \n",
    "fpath = 'E:/jupyter/workspace/RAC/graph_model', # tstamp = tstamp  \n",
    "print('...saved model')\n",
    "\n",
    "#TEST MODEL\n",
    "\n",
    "print('...testing model')\n",
    "data_withresiduals = test_model(Model, data, fpath = 'E:/jupyter/workspace/RAC/graph_model', tstamp = 'no_time', batch_size = 1, return_test_MSE = True)\n",
    "print('...tested model')"
   ]
  },
  {
   "cell_type": "code",
   "execution_count": null,
   "metadata": {
    "collapsed": true
   },
   "outputs": [],
   "source": []
  }
 ],
 "metadata": {
  "kernelspec": {
   "display_name": "Python 3",
   "language": "python",
   "name": "python3"
  },
  "language_info": {
   "codemirror_mode": {
    "name": "ipython",
    "version": 3
   },
   "file_extension": ".py",
   "mimetype": "text/x-python",
   "name": "python",
   "nbconvert_exporter": "python",
   "pygments_lexer": "ipython3",
   "version": "3.6.3"
  }
 },
 "nbformat": 4,
 "nbformat_minor": 2
}
