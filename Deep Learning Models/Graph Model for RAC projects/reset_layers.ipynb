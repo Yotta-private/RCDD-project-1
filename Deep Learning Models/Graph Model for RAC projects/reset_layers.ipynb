{
 "cells": [
  {
   "cell_type": "code",
   "execution_count": 1,
   "metadata": {},
   "outputs": [
    {
     "name": "stderr",
     "output_type": "stream",
     "text": [
      "C:\\ProgramData\\Anaconda3\\lib\\site-packages\\h5py\\__init__.py:34: FutureWarning: Conversion of the second argument of issubdtype from `float` to `np.floating` is deprecated. In future, it will be treated as `np.float64 == np.dtype(float).type`.\n",
      "  from ._conv import register_converters as _register_converters\n",
      "Using Theano backend.\n"
     ]
    }
   ],
   "source": [
    "from __future__ import print_function\n",
    "from keras import initializers\n",
    "import numpy as np\n",
    "import theano.tensor as T \n"
   ]
  },
  {
   "cell_type": "code",
   "execution_count": 2,
   "metadata": {
    "collapsed": true
   },
   "outputs": [],
   "source": [
    "def reset(model):\n",
    "    \n",
    "    '''Given a Keras model consisting only of GraphFP, Dense, and Dropout layers,\n",
    "    this function will reset the trainable weights to save time for CV tests.'''\n",
    "\n",
    "    for layer in model.layers:\n",
    "        # Note: these are custom depending on the layer type\n",
    "        if '.GraphFP' in str(layer):\n",
    "            W_inner = layer.init_inner((layer.inner_dim, layer.inner_dim))\n",
    "            b_inner = np.zeros((1, layer.inner_dim))\n",
    "            # Inner weights\n",
    "            layer.W_inner.set_value((T.tile(W_inner, (layer.depth + 1, 1, 1)).eval() + \\\n",
    "                initializers.uniform((layer.depth + 1, layer.inner_dim, layer.inner_dim)).eval()).astype(np.float32))\n",
    "            layer.b_inner.set_value((T.tile(b_inner, (layer.depth + 1, 1, 1)).eval()  + \\\n",
    "                initializers.uniform((layer.depth + 1, 1, layer.inner_dim)).eval()).astype(np.float32))\n",
    "\n",
    "            # Outer weights\n",
    "            W_output = layer.init_output((layer.inner_dim, layer.output_dim), scale = layer.scale_output)\n",
    "            b_output = np.zeros((1, layer.output_dim))\n",
    "            # Initialize weights tensor\n",
    "            layer.W_output.set_value((T.tile(W_output, (layer.depth + 1, 1, 1)).eval()).astype(np.float32))\n",
    "            layer.b_output.set_value((T.tile(b_output, (layer.depth + 1, 1, 1)).eval()).astype(np.float32))\n",
    "            print('graphFP layer reset')\n",
    "\n",
    "        elif '.Dense' in str(layer):\n",
    "            layer.W.set_value((layer.init(layer.W.shape.eval()).eval()).astype(np.float32))\n",
    "            layer.b.set_value(np.zeros(layer.b.shape.eval(), dtype=np.float32))\n",
    "            print('dense layer reset')\n",
    "\n",
    "        elif '.Dropout' in str(layer):\n",
    "            print('dropout unchanged')\n",
    "        else:\n",
    "            print('Not reseting weights for {}'.format(str(layer)))\n",
    "    print('Reset model weights')\n",
    "    return model"
   ]
  },
  {
   "cell_type": "code",
   "execution_count": null,
   "metadata": {
    "collapsed": true
   },
   "outputs": [],
   "source": []
  }
 ],
 "metadata": {
  "kernelspec": {
   "display_name": "Python 3",
   "language": "python",
   "name": "python3"
  },
  "language_info": {
   "codemirror_mode": {
    "name": "ipython",
    "version": 3
   },
   "file_extension": ".py",
   "mimetype": "text/x-python",
   "name": "python",
   "nbconvert_exporter": "python",
   "pygments_lexer": "ipython3",
   "version": "3.6.3"
  }
 },
 "nbformat": 4,
 "nbformat_minor": 2
}
