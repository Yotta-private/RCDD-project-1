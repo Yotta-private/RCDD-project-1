{
 "cells": [
  {
   "cell_type": "code",
   "execution_count": 3,
   "metadata": {},
   "outputs": [
    {
     "name": "stderr",
     "output_type": "stream",
     "text": [
      "C:\\ProgramData\\Anaconda3\\lib\\site-packages\\h5py\\__init__.py:34: FutureWarning: Conversion of the second argument of issubdtype from `float` to `np.floating` is deprecated. In future, it will be treated as `np.float64 == np.dtype(float).type`.\n",
      "  from ._conv import register_converters as _register_converters\n",
      "Using Theano backend.\n"
     ]
    }
   ],
   "source": [
    "from neural_fp import *\n",
    "import rdkit.Chem as Chem\n",
    "import numpy as np\n",
    "import os\n",
    "import csv"
   ]
  },
  {
   "cell_type": "code",
   "execution_count": 6,
   "metadata": {},
   "outputs": [
    {
     "data": {
      "text/plain": [
       "\"train, val, test = data\\nprint(train['mols'][0][0])\""
      ]
     },
     "execution_count": 6,
     "metadata": {},
     "output_type": "execute_result"
    }
   ],
   "source": [
    "def get_data(data_label = '', shuffle_seed = None, batch_size = 1, data_split = 'cv', cv_folds = '1/1',\n",
    "                 truncate_to = None, training_ratio = 0.9,molecular_attributes = True, use_fp = None, padding = True):\n",
    "    \n",
    "    '''This is a helper script to read the data file and return the training and test data sets separately. This is to allow for an\n",
    "    already-trained model to be evaluated using the test data (i.e., which we know it hasn't seen before)'''\n",
    "\n",
    "    # Roots\n",
    "    #data_label = data_label.lower()\n",
    "    #data_froot = os.path.join(os.path.dirname(os.path.dirname(__file__)), 'data')\n",
    "\n",
    "    print('reading data...')\n",
    "    data = []\n",
    "    with open(\"RAC_data.csv\", 'r') as data_fid:\n",
    "        reader = csv.reader(data_fid, quotechar = '\"')\n",
    "        for row in reader:\n",
    "            if row[0] != 'smiles_a':\n",
    "                data.append(row)\n",
    "    print('done')\n",
    "\n",
    "    # Truncate if necessary\n",
    "    if truncate_to is not None:\n",
    "        data = data[:truncate_to]\n",
    "        print('truncated data to first {} samples'.format(truncate_to))\n",
    "\n",
    "    # Get new shuffle seed if possible\n",
    "    if shuffle_seed is not None:\n",
    "        np.random.seed(shuffle_seed)\n",
    "\n",
    "\n",
    "    smiles = []\n",
    "    mols = []\n",
    "    y = []\n",
    "    y_label = 'yeild_classfication'\n",
    "    print('processing data...')\n",
    "    # Randomize\n",
    "    np.random.shuffle(data)\n",
    "    for i, row in enumerate(data):\n",
    "        try:\n",
    "            # Molecule first (most likely to fail)\n",
    "            mol = Chem.MolFromSmiles(row[0], sanitize = False)\n",
    "            Chem.SanitizeMol(mol)\n",
    "            mol_2 = Chem.MolFromSmiles(row[1], sanitize = False)\n",
    "            Chem.SanitizeMol(mol_2)\n",
    "\n",
    "            input_features = molToGraph(mol, molecular_attributes = molecular_attributes).dump_as_tensor()\n",
    "            input_features = padGraphTensor(input_features, 30)\n",
    "            ecfps = np.array(AllChem.GetMorganFingerprintAsBitVect(mol_2,3,nBits=512,useFeatures=True))\n",
    "\n",
    "            # Are we trying to use Morgan FPs?\n",
    "            if use_fp == 'Morgan':\n",
    "                mat_features = np.array(AllChem.GetMorganFingerprintAsBitVect(mol,3,nBits=512,useFeatures=True))\n",
    "                #print(mol_tensor)\n",
    "            elif use_fp == 'Morgan2':\n",
    "                mat_features = np.array(AllChem.GetMorganFingerprintAsBitVect(mol,2,nBits=512,useFeatures=True))\n",
    "            elif type(use_fp) != type(None):\n",
    "                print('Unrecognised use_FP option {}'.format(use_fp))\n",
    "\n",
    "\n",
    "\n",
    "            mols.append((input_features,ecfps))\n",
    "\n",
    "            y.append(row[3]) # Measured log(solubility M/L)\n",
    "            smiles.append(Chem.MolToSmiles(mol, isomericSmiles = True)) # Smiles\n",
    "\n",
    "        except Exception as e:\n",
    "            print('Failed to generate graph for {}, y: {}'.format(row[smiles_index], row[y_index]))\n",
    "            print(e)\n",
    "\n",
    "\n",
    "    if 'ratio' in data_split: # split train/notrain\n",
    "        print('Using first fraction ({}) as training'.format(training_ratio))\n",
    "        # Create training/development split\n",
    "        division = int(len(mols) * training_ratio)\n",
    "        mols_train = mols[:division]\n",
    "        mols_notrain  = mols[division:]\n",
    "        y_train = y[:division]\n",
    "        y_notrain  = y[division:]\n",
    "        smiles_train = smiles[:division]\n",
    "        smiles_notrain = smiles[division:]\n",
    "\n",
    "        # Split notrain up\n",
    "        cut_index = int(len(mols_notrain) / 2)\n",
    "                        \n",
    "        mols_val = mols_notrain[:cut_index] # first half\n",
    "        y_val = y_notrain[:cut_index] # first half\n",
    "        smiles_val = smiles_notrain[:cut_index] # first half\n",
    "        mols_test = mols_notrain[cut_index:] # second half\n",
    "        y_test = y_notrain[cut_index:] # second half\n",
    "        smiles_test = smiles_notrain[cut_index:] # second half\n",
    "        print('Training size: {}'.format(len(mols_train)))\n",
    "        print('Validation size: {}'.format(len(mols_val)))\n",
    "        print('Testing size: {}'.format(len(mols_test)))\n",
    "\n",
    "    elif 'all_train' in data_split: # put everything in train \n",
    "        print('Using ALL as training')\n",
    "        # Create training/development split\n",
    "        mols_train = mols\n",
    "        y_train = y\n",
    "        smiles_train = smiles\n",
    "        mols_val    = []\n",
    "        y_val       = []\n",
    "        smiles_val  = []\n",
    "        mols_test   = []\n",
    "        y_test      = []\n",
    "        smiles_test = []\n",
    "        print('Training size: {}'.format(len(mols_train)))\n",
    "        print('Validation size: {}'.format(len(mols_val)))\n",
    "        print('Testing size: {}'.format(len(mols_test)))\n",
    "\n",
    "    elif 'cv' in data_split: # cross-validation\n",
    "        # Default to first fold of 5-fold cross-validation\n",
    "        folds = 5\n",
    "        this_fold = 0\n",
    "\n",
    "        # Read fold information\n",
    "        try:\n",
    "            folds = int(cv_folds.split('/')[1])\n",
    "            this_fold = int(cv_folds.split('/')[0]) - 1\n",
    "        except:\n",
    "            pass\n",
    "\n",
    "        # Get target size of each fold\n",
    "        N = len(mols)\n",
    "        print('Total of {} mols'.format(N))\n",
    "        target_fold_size = int(np.ceil(float(N) / folds))\n",
    "        # Split up data\n",
    "        folded_mols = [mols[x:x+target_fold_size]   for x in range(0, N, target_fold_size)]\n",
    "        folded_y = [y[x:x+target_fold_size]      for x in range(0, N, target_fold_size)]\n",
    "        folded_smiles = [smiles[x:x+target_fold_size] for x in range(0, N, target_fold_size)]\n",
    "        print('Split data into {} folds'.format(folds))\n",
    "        print('...using fold {}'.format(this_fold + 1))\n",
    "\n",
    "        # Recombine into training and testing\n",
    "        mols_train   = [x for fold in (folded_mols[:this_fold] + folded_mols[(this_fold + 1):])     for x in fold]\n",
    "        y_train      = [x for fold in (folded_y[:this_fold] + folded_y[(this_fold + 1):])           for x in fold]\n",
    "        smiles_train = [x for fold in (folded_smiles[:this_fold] + folded_smiles[(this_fold + 1):]) for x in fold]\n",
    "        # Test is this_fold\n",
    "        mols_test    = folded_mols[this_fold]\n",
    "        y_test       = folded_y[this_fold]\n",
    "        smiles_test  = folded_smiles[this_fold]\n",
    "\n",
    "        # Define validation set as random 10% of training\n",
    "        training_indices = list(range(len(mols_train)))\n",
    "        np.random.shuffle(training_indices)\n",
    "        split = int(len(training_indices) * training_ratio)\n",
    "        mols_train,   mols_val    = [mols_train[i] for i in training_indices[:split]],   [mols_train[i] for i in training_indices[split:]]\n",
    "        y_train,      y_val       = [y_train[i] for i in training_indices[:split]],      [y_train[i] for i in training_indices[split:]]\n",
    "        smiles_train, smiles_val  = [smiles_train[i] for i in training_indices[:split]], [smiles_train[i] for i in training_indices[split:]]\n",
    "\n",
    "        print('Total training: {}'.format(len(mols_train)))\n",
    "        print('Total validation: {}'.format(len(mols_val)))\n",
    "        print('Total testing: {}'.format(len(mols_test)))\n",
    "\n",
    "    else:\n",
    "        print('Must specify a data_split type of \"ratio\" or \"cv\"')\n",
    "        quit(1)\n",
    "\n",
    "\n",
    "    if 'cv_full' in data_split: # cross-validation, but use 'test' as validation\n",
    "        train = {}; train['mols'] = mols_train; train['y'] = y_train; train['smiles'] = smiles_train; train['y_label'] = y_label\n",
    "        val   = {}; val['mols']   = mols_test;   val['y']   = y_test;   val['smiles']   = smiles_test;   val['y_label']   = y_label\n",
    "        test  = {}; test['mols']  = [];  test['y']  = [];  test['smiles']  = []; test['y_label']  = []\n",
    "\n",
    "    else:\n",
    "\n",
    "        train = {}; train['mols'] = mols_train; train['y'] = y_train; train['smiles'] = smiles_train; train['y_label'] = y_label\n",
    "        val   = {}; val['mols']   = mols_val;   val['y']   = y_val;   val['smiles']   = smiles_val;   val['y_label']   = y_label\n",
    "        test  = {}; test['mols']  = mols_test;  test['y']  = y_test;  test['smiles']  = smiles_test; test['y_label']  = y_label\n",
    "\n",
    "    return (train, val, test)\n",
    "\n",
    "\n",
    "# In[35]:\n",
    "\n",
    "\n",
    "\"\"\"data = get_data(data_label = '', shuffle_seed = None, batch_size = 1, data_split = 'cv', cv_folds = '1/5',\n",
    "                 truncate_to = None, training_ratio = 0.9,molecular_attributes = True, use_fp = None)\"\"\"\n",
    "\n",
    "\n",
    "# In[36]:\n",
    "\n",
    "\n",
    "\"\"\"train, val, test = data\n",
    "print(train['mols'][0][0])\"\"\"\n",
    "\n"
   ]
  },
  {
   "cell_type": "code",
   "execution_count": 7,
   "metadata": {},
   "outputs": [
    {
     "name": "stdout",
     "output_type": "stream",
     "text": [
      "reading data...\n",
      "done\n",
      "processing data...\n",
      "Total of 702 mols\n",
      "Split data into 5 folds\n",
      "...using fold 1\n",
      "Total training: 504\n",
      "Total validation: 57\n",
      "Total testing: 141\n"
     ]
    }
   ],
   "source": [
    "data = get_data(data_label = '', shuffle_seed = None, batch_size = 1, data_split = 'cv', cv_folds = '1/5',\n",
    "                 truncate_to = None, training_ratio = 0.9,molecular_attributes = True, use_fp = None)"
   ]
  },
  {
   "cell_type": "code",
   "execution_count": 8,
   "metadata": {},
   "outputs": [
    {
     "name": "stdout",
     "output_type": "stream",
     "text": [
      "512\n"
     ]
    }
   ],
   "source": [
    "train, val, test = data\n",
    "print(len(train['mols'][0][1]))"
   ]
  },
  {
   "cell_type": "code",
   "execution_count": 9,
   "metadata": {},
   "outputs": [
    {
     "name": "stdout",
     "output_type": "stream",
     "text": [
      "(1, 30, 30, 40)\n"
     ]
    }
   ],
   "source": [
    "s =  train['mols'][0]\n",
    "f =np.array([s[0]])\n",
    "print(f.shape)"
   ]
  },
  {
   "cell_type": "code",
   "execution_count": null,
   "metadata": {
    "collapsed": true
   },
   "outputs": [],
   "source": []
  }
 ],
 "metadata": {
  "kernelspec": {
   "display_name": "Python 3",
   "language": "python",
   "name": "python3"
  },
  "language_info": {
   "codemirror_mode": {
    "name": "ipython",
    "version": 3
   },
   "file_extension": ".py",
   "mimetype": "text/x-python",
   "name": "python",
   "nbconvert_exporter": "python",
   "pygments_lexer": "ipython3",
   "version": "3.6.3"
  }
 },
 "nbformat": 4,
 "nbformat_minor": 2
}
